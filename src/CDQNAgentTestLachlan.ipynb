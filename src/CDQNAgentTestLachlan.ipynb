{
 "cells": [
  {
   "cell_type": "code",
   "execution_count": 1,
   "metadata": {},
   "outputs": [
    {
     "data": {
      "text/plain": [
       "'\\nThis Notebook closely follows the guide presented by Tensorflow here:\\nhttps://www.tensorflow.org/agents/tutorials/1_dqn_tutorial\\n'"
      ]
     },
     "execution_count": 1,
     "metadata": {},
     "output_type": "execute_result"
    }
   ],
   "source": [
    "\"\"\"\n",
    "This Notebook closely follows the guide presented by Tensorflow here:\n",
    "https://www.tensorflow.org/agents/tutorials/1_dqn_tutorial\n",
    "\"\"\""
   ]
  },
  {
   "cell_type": "code",
   "execution_count": 2,
   "metadata": {},
   "outputs": [],
   "source": [
    "\"\"\" Imports: \"\"\"\n",
    "# Tensorflow Stuff:\n",
    "import tensorflow as tf\n",
    "from tensorflow import keras\n",
    "from keras import layers\n",
    "from tf_agents.agents.dqn import dqn_agent\n",
    "from tf_agents.agents.categorical_dqn import categorical_dqn_agent\n",
    "from tf_agents.drivers import py_driver\n",
    "from tf_agents.environments import tf_py_environment\n",
    "from tf_agents.eval import metric_utils\n",
    "from tf_agents.metrics import tf_metrics\n",
    "from tf_agents.networks import sequential\n",
    "from tf_agents.networks import categorical_q_network\n",
    "from tf_agents.policies import py_tf_eager_policy\n",
    "from tf_agents.policies import random_tf_policy\n",
    "from tf_agents.policies.epsilon_greedy_policy import EpsilonGreedyPolicy\n",
    "from tf_agents.replay_buffers import tf_uniform_replay_buffer\n",
    "from tf_agents.trajectories import trajectory\n",
    "from tf_agents.specs import tensor_spec\n",
    "from tf_agents.utils import common\n",
    "from tf_agents.metrics import py_metrics\n",
    "from tf_agents.drivers import dynamic_step_driver\n",
    "\n",
    "import imageio\n",
    "import IPython\n",
    "import time\n",
    "import matplotlib.pyplot as plt"
   ]
  },
  {
   "cell_type": "code",
   "execution_count": 3,
   "metadata": {},
   "outputs": [],
   "source": [
    "# BM stuff:\n",
    "from BMEnvironment import BMEnv\n",
    "from templates.Seesaw_Template import Seesaw\n",
    "from templates.Tower_Template import Tower\n",
    "from templates.Blank_Template import Blank\n",
    "from templates.Roof_Template import Roof\n",
    "from templates.Shield_Template import Shield\n",
    "\n",
    "from templates.PureAvoidance_Template import PureAvoidance\n",
    "from observations.DoubleRaycastObservation import DoubleRayCastObservation\n",
    "from rewards.NewHeightReward import NewHeightReward"
   ]
  },
  {
   "cell_type": "code",
   "execution_count": 4,
   "metadata": {},
   "outputs": [],
   "source": [
    "def create_policy_eval_video(policy, env: tf_py_environment.TFPyEnvironment, py_env: BMEnv, filename, num_episodes=1, fps=60, render_obs=False):\n",
    "  \"\"\" Creates a video where actions are mapped out according to the given policy \"\"\"\n",
    "\n",
    "  mode = ''\n",
    "  if render_obs: \n",
    "    mode='render_observation'\n",
    "  else:\n",
    "    mode='render_normal'\n",
    "\n",
    "  filename = filename + \".mp4\"\n",
    "  with imageio.get_writer(filename, fps=fps) as video:\n",
    "    for _ in range(num_episodes):\n",
    "      time_step = env.reset()\n",
    "      video.append_data(py_env.render(mode=mode))                \n",
    "      while not time_step.is_last():\n",
    "        action_step = policy.action(time_step)              \n",
    "        time_step = env.step(action_step)            \n",
    "        video.append_data(py_env.render(mode=mode))          "
   ]
  },
  {
   "cell_type": "code",
   "execution_count": 5,
   "metadata": {},
   "outputs": [],
   "source": [
    "\"\"\" Hyper-parameters \"\"\"\n",
    "\n",
    "num_iterations = 1000\n",
    "\n",
    "initial_collect_steps = 2000\n",
    "\n",
    "collect_steps_per_iteration = 5\n",
    "replay_buffer_max_length = 40000\n",
    "\n",
    "batch_size = 512\n",
    "learning_rate = 1e-3\n",
    "gamma = 0.999\n",
    "start_epsilon = 0.2\n",
    "exp_epsilon_decay_base = 0.99\n",
    "grad_clip = 10\n",
    "target_update_period = 1\n",
    "\n",
    "fc_layer_params = (64, 64,)\n",
    "num_atoms = 51  # @param {type:\"integer\"}\n",
    "min_q_value = -10  # @param {type:\"integer\"}\n",
    "max_q_value = 10  # @param {type:\"integer\"}\n",
    "n_step_update = 1  # @param {type:\"integer\"}\n",
    "\n",
    "\n",
    "num_eval_episodes = 3\n",
    "eval_interval = 50\n",
    "log_interval = 25"
   ]
  },
  {
   "cell_type": "code",
   "execution_count": 6,
   "metadata": {},
   "outputs": [],
   "source": [
    "\"\"\" Create Environments: \"\"\"    \n",
    "\n",
    "# Choose reward function:\n",
    "reward_fn = NewHeightReward()\n",
    "\n",
    "# Choose observation function:\n",
    "observation_fn = DoubleRayCastObservation()\n",
    "\n",
    "# Choose variant ranges:\n",
    "variant_range_train = (0.0, 1.0)\n",
    "variant_range_test = (0.2, 0.4)\n",
    "\n",
    "# Generic Environment:\n",
    "env = BMEnv(    template=Roof(),\n",
    "                variantRange=(0.0, 1.0), \n",
    "                reward_fn=reward_fn,            \n",
    "                observation_fn=observation_fn  )\n",
    "\n",
    "# Training Environment:\n",
    "train_py_env = BMEnv(   template=Roof(), \n",
    "                        variantRange=variant_range_train, \n",
    "                        reward_fn=reward_fn,\n",
    "                        observation_fn=observation_fn  )                        \n",
    "\n",
    "# Evaluation Environment:\n",
    "eval_py_env = BMEnv(    template=Roof(), \n",
    "                        variantRange=variant_range_test, \n",
    "                        reward_fn=reward_fn,\n",
    "                        observation_fn=observation_fn  )      \n",
    "\n",
    "# Convert to TF environments:\n",
    "train_env = tf_py_environment.TFPyEnvironment(train_py_env)                  \n",
    "eval_env = tf_py_environment.TFPyEnvironment(eval_py_env)\n"
   ]
  },
  {
   "cell_type": "code",
   "execution_count": 7,
   "metadata": {},
   "outputs": [],
   "source": [
    "\"\"\" Create Agent Q-Net: \"\"\"\n",
    "\n",
    "# Action Specification:\n",
    "action_tensor_spec = tensor_spec.from_spec(env.action_spec())\n",
    "num_actions = action_tensor_spec.maximum - action_tensor_spec.minimum + 1\n",
    "\n",
    "\n",
    "categorical_q_net = categorical_q_network.CategoricalQNetwork(  train_env.observation_spec(), \n",
    "                                                                action_tensor_spec,\n",
    "                                                                num_atoms=num_atoms,\n",
    "                                                                fc_layer_params=fc_layer_params )"
   ]
  },
  {
   "cell_type": "code",
   "execution_count": 8,
   "metadata": {},
   "outputs": [],
   "source": [
    "\"\"\" Create Agent: \"\"\"\n",
    "# Agent learning optimizer:\n",
    "optimizer = keras.optimizers.Adam(learning_rate=learning_rate)\n",
    "\n",
    "# Counter:\n",
    "train_step_counter = tf.Variable(0)\n",
    "\n",
    "\n",
    "# Agent:\n",
    "agent = categorical_dqn_agent.CategoricalDqnAgent(\n",
    "    train_env.time_step_spec(),\n",
    "    train_env.action_spec(),\n",
    "    categorical_q_network=categorical_q_net,\n",
    "    optimizer=optimizer,\n",
    "    min_q_value=min_q_value,\n",
    "    max_q_value=max_q_value,\n",
    "    n_step_update=n_step_update,\n",
    "    td_errors_loss_fn=common.element_wise_squared_loss,\n",
    "    gamma=gamma,\n",
    "    train_step_counter=train_step_counter)\n",
    "    \n",
    "agent.initialize()"
   ]
  },
  {
   "cell_type": "code",
   "execution_count": 9,
   "metadata": {},
   "outputs": [],
   "source": [
    "def compute_avg_return(environment, policy, num_episodes=10):\n",
    "    \"\"\"\n",
    "    The standard metric for evaluating a policy in an environment\n",
    "    \"\"\"\n",
    "    total_return = 0.0\n",
    "    iterations = 0\n",
    "    for _ in range(num_episodes):\n",
    "\n",
    "        time_step = environment.reset()\n",
    "        episode_return = 0.0\n",
    "\n",
    "        while not time_step.is_last():\n",
    "            action_step = policy.action(time_step)\n",
    "            time_step = environment.step(action_step.action)\n",
    "            episode_return += time_step.reward\n",
    "            iterations += 1\n",
    "        total_return += episode_return\n",
    "        \n",
    "    avg_return = total_return / iterations\n",
    "    return avg_return.numpy()[0]"
   ]
  },
  {
   "cell_type": "code",
   "execution_count": 10,
   "metadata": {},
   "outputs": [],
   "source": [
    "\"\"\" Replay Buffer \"\"\"\n",
    "\n",
    "table_name = 'uniform_table'\n",
    "collect_data_spec = tensor_spec.from_spec(agent.collect_data_spec)\n",
    "\n",
    "replay_buffer = tf_uniform_replay_buffer.TFUniformReplayBuffer( data_spec=collect_data_spec,\n",
    "                                                                batch_size=train_env.batch_size,\n",
    "                                                                max_length=replay_buffer_max_length )"
   ]
  },
  {
   "cell_type": "code",
   "execution_count": 11,
   "metadata": {},
   "outputs": [
    {
     "name": "stdout",
     "output_type": "stream",
     "text": [
      "WARNING:tensorflow:From C:\\Users\\lachl\\anaconda3\\envs\\MachineLearningPy\\lib\\site-packages\\tensorflow\\python\\autograph\\impl\\api.py:377: ReplayBuffer.get_next (from tf_agents.replay_buffers.replay_buffer) is deprecated and will be removed in a future version.\n",
      "Instructions for updating:\n",
      "Use `as_dataset(..., single_deterministic_pass=False) instead.\n"
     ]
    }
   ],
   "source": [
    "\"\"\" Drivers: \"\"\"\n",
    "metric = tf_metrics.AverageReturnMetric()\n",
    "\n",
    "observers = [metric, replay_buffer.add_batch]\n",
    "\n",
    "random_policy = random_tf_policy.RandomTFPolicy(    action_spec=agent.action_spec,\n",
    "                                                    time_step_spec=train_env.time_step_spec()   )\n",
    "\n",
    "dynamic_step_driver.DynamicStepDriver(  env=train_env, \n",
    "                                        policy=random_policy,\n",
    "                                        observers=observers,\n",
    "                                        num_steps=initial_collect_steps).run(time_step=train_env.reset())\n",
    "\n",
    "dataset = replay_buffer.as_dataset(\n",
    "    num_parallel_calls=3,\n",
    "    sample_batch_size=batch_size,\n",
    "    num_steps=2).prefetch(3)\n",
    "\n",
    "dataset\n",
    "\n",
    "iterator = iter(dataset)"
   ]
  },
  {
   "cell_type": "code",
   "execution_count": 12,
   "metadata": {},
   "outputs": [],
   "source": [
    "\"\"\" Initialise collect driver: \"\"\"\n",
    "\n",
    "agent.train = common.function(agent.train)\n",
    "\n",
    "agent.train_step_counter.assign(0)\n",
    "\n",
    "avg_return = compute_avg_return(train_env, agent.policy, num_eval_episodes)\n",
    "returns = [avg_return]\n",
    "\n",
    "time_step = train_env.reset()\n",
    "\n",
    "collect_driver = dynamic_step_driver.DynamicStepDriver( env=train_env,\n",
    "                                                        observers=observers,\n",
    "                                                        policy=agent.collect_policy,                                                        \n",
    "                                                        num_steps=collect_steps_per_iteration   )   \n",
    "\n",
    "total_iterations = 0\n"
   ]
  },
  {
   "cell_type": "code",
   "execution_count": 13,
   "metadata": {},
   "outputs": [
    {
     "name": "stdout",
     "output_type": "stream",
     "text": [
      "iteration = 25: loss = 3.9133472442626953\n",
      "iteration = 50: loss = 3.626121997833252\n",
      "step = 50: Average Return = -4.046448230743408\n",
      "iteration = 75: loss = 1.6384458541870117\n",
      "iteration = 100: loss = 2.778411388397217\n",
      "step = 100: Average Return = -4.054562091827393\n",
      "iteration = 125: loss = 1.4371293783187866\n",
      "iteration = 150: loss = 2.210513114929199\n",
      "step = 150: Average Return = -4.066545009613037\n",
      "iteration = 175: loss = 1.6906262636184692\n",
      "iteration = 200: loss = 2.1374478340148926\n",
      "step = 200: Average Return = -3.6885721683502197\n",
      "iteration = 225: loss = 1.6274797916412354\n",
      "iteration = 250: loss = 2.070568561553955\n",
      "step = 250: Average Return = 0.2752271592617035\n",
      "iteration = 275: loss = 1.97330641746521\n",
      "iteration = 300: loss = 1.8974545001983643\n",
      "step = 300: Average Return = 0.2700515687465668\n",
      "iteration = 325: loss = 2.3111493587493896\n",
      "iteration = 350: loss = 1.8496752977371216\n",
      "step = 350: Average Return = 0.273933082818985\n",
      "iteration = 375: loss = 1.9747661352157593\n",
      "iteration = 400: loss = 1.8566416501998901\n",
      "step = 400: Average Return = 0.2791087031364441\n",
      "iteration = 425: loss = 2.3440284729003906\n",
      "iteration = 450: loss = 1.7469362020492554\n",
      "step = 450: Average Return = -0.34609732031822205\n",
      "iteration = 475: loss = 2.0461339950561523\n",
      "iteration = 500: loss = 1.8788714408874512\n",
      "step = 500: Average Return = 0.27522706985473633\n",
      "iteration = 525: loss = 1.8996760845184326\n",
      "iteration = 550: loss = 2.062379837036133\n",
      "step = 550: Average Return = 0.26746365427970886\n",
      "iteration = 575: loss = 1.9642589092254639\n",
      "iteration = 600: loss = 2.0152437686920166\n",
      "step = 600: Average Return = 0.2558186650276184\n",
      "iteration = 625: loss = 2.210303544998169\n",
      "iteration = 650: loss = 2.2202582359313965\n",
      "step = 650: Average Return = 0.27393314242362976\n",
      "iteration = 675: loss = 2.0256574153900146\n",
      "iteration = 700: loss = 2.0361552238464355\n",
      "step = 700: Average Return = 0.26746368408203125\n",
      "iteration = 725: loss = 2.0709826946258545\n",
      "iteration = 750: loss = 2.2625069618225098\n",
      "step = 750: Average Return = 1.9949699640274048\n",
      "iteration = 775: loss = 2.2382450103759766\n",
      "iteration = 800: loss = 2.1784310340881348\n",
      "step = 800: Average Return = 0.21312446892261505\n",
      "iteration = 825: loss = 1.8253670930862427\n",
      "iteration = 850: loss = 2.271149158477783\n",
      "step = 850: Average Return = 0.2726394236087799\n",
      "iteration = 875: loss = 2.101656913757324\n",
      "iteration = 900: loss = 2.123396873474121\n",
      "step = 900: Average Return = -3.7484850883483887\n",
      "iteration = 925: loss = 2.020359516143799\n",
      "iteration = 950: loss = 2.032458543777466\n",
      "step = 950: Average Return = -3.696154832839966\n",
      "iteration = 975: loss = 2.0567214488983154\n",
      "iteration = 1000: loss = 1.92537260055542\n",
      "step = 1000: Average Return = 0.24029165506362915\n",
      "Time taken: 294.31535148620605\n"
     ]
    }
   ],
   "source": [
    "\"\"\" Train Agent: \"\"\"\n",
    "\n",
    "starttime = time.time()\n",
    "\n",
    "iteration = 0\n",
    "\n",
    "for _ in range(num_iterations):\n",
    "\n",
    "    iteration += 1    \n",
    "\n",
    "    epsilon = start_epsilon * pow(exp_epsilon_decay_base, iteration)    \n",
    "    \n",
    "    agent._epsilon_greedy = epsilon\n",
    "\n",
    "    time_step = collect_driver.run()\n",
    "\n",
    "    experience, _ = next(iterator)\n",
    "    train_loss = agent.train(experience).loss\n",
    "\n",
    "    step = agent.train_step_counter.numpy()\n",
    "    total_iterations += 1\n",
    "\n",
    "    if step % log_interval == 0:\n",
    "        print('iteration = {0}: loss = {1}'.format(step, train_loss))\n",
    "    \n",
    "    if step % eval_interval == 0:\n",
    "        avg_return = compute_avg_return(eval_env, agent.policy, num_eval_episodes)\n",
    "        print('step = {0}: Average Return = {1}'.format(step, avg_return))\n",
    "        returns.append(avg_return)        \n",
    "\n",
    "timetaken = time.time() - starttime\n",
    "print(\"Time taken: \" + str(timetaken))\n"
   ]
  },
  {
   "cell_type": "code",
   "execution_count": 14,
   "metadata": {},
   "outputs": [
    {
     "data": {
      "text/plain": [
       "Text(0.5, 0, 'Iterations')"
      ]
     },
     "execution_count": 14,
     "metadata": {},
     "output_type": "execute_result"
    },
    {
     "data": {
      "image/png": "[encoded data removed]",
      "text/plain": [
       "<Figure size 432x288 with 1 Axes>"
      ]
     },
     "metadata": {
      "needs_background": "light"
     },
     "output_type": "display_data"
    }
   ],
   "source": [
    "iterations = range(0, total_iterations + 1, eval_interval)\n",
    "plt.plot(iterations, returns)\n",
    "plt.ylabel('Average Return')\n",
    "plt.xlabel('Iterations')"
   ]
  },
  {
   "cell_type": "code",
   "execution_count": 15,
   "metadata": {},
   "outputs": [
    {
     "name": "stderr",
     "output_type": "stream",
     "text": [
      "IMAGEIO FFMPEG_WRITER WARNING: input image is not divisible by macro_block_size=16, resizing from (800, 600) to (800, 608) to ensure video compatibility with most codecs and players. To prevent resizing, make your input image divisible by the macro_block_size or set the macro_block_size to 1 (risking incompatibility).\n"
     ]
    }
   ],
   "source": [
    "create_policy_eval_video(agent.collect_policy, eval_env, eval_py_env, \"../training_videos/CDQNRoof-29-05-2022-1000iterations\", 3, render_obs=False)"
   ]
  }
 ],
 "metadata": {
  "interpreter": {
   "hash": "1608556bdd26bc524baabcbdd7e1a8d95fe998d67de44c9290c6fa8d90174dda"
  },
  "kernelspec": {
   "display_name": "Python 3.10.4 ('RLIPBM-py_10')",
   "language": "python",
   "name": "python3"
  },
  "language_info": {
   "codemirror_mode": {
    "name": "ipython",
    "version": 3
   },
   "file_extension": ".py",
   "mimetype": "text/x-python",
   "name": "python",
   "nbconvert_exporter": "python",
   "pygments_lexer": "ipython3",
   "version": "3.10.4"
  },
  "orig_nbformat": 4
 },
 "nbformat": 4,
 "nbformat_minor": 2
}
