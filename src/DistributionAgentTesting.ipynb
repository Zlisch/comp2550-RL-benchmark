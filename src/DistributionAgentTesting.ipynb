{
 "cells": [
  {
   "cell_type": "code",
   "execution_count": 1,
   "metadata": {},
   "outputs": [],
   "source": [
    "# Imports:\n",
    "from agents.Agent import Agent\n",
    "from BMTemplate import Template\n",
    "from rewards.BMRewardFunction import RewardFunction\n",
    "\n",
    "from agents.DistributionAgent import DistributionAgent\n",
    "from agents.HeuristicAvoidAgent import HeuristicAvoidAgent\n",
    "from agents.HeuristicPushAgent import HeuristicPushAgent\n",
    "\n",
    "from rewards.NewHeightReward import NewHeightReward\n",
    "from templates.Templates import REGISTRY as tempReg\n",
    "\n",
    "from matplotlib import pyplot as plt\n",
    "from matplotlib.pyplot import figure\n",
    "import numpy as np"
   ]
  },
  {
   "cell_type": "code",
   "execution_count": 2,
   "metadata": {},
   "outputs": [],
   "source": [
    "\"\"\" Compute the average rewards per step for a linear space of variants of a template \"\"\"\n",
    "def computeAverageRewards(  agent: Agent, template: Template, \n",
    "                            rewardfn: RewardFunction, VARIANTS: int = 40, \n",
    "                            ATTEMPTS: int = 3, ITERS: int = 800) -> list[float]:\n",
    "\n",
    "    avrewards = []\n",
    "\n",
    "    total = ITERS * ATTEMPTS * VARIANTS\n",
    "    current = 0\n",
    "    for i in range(0, VARIANTS):\n",
    "        stepsTaken = 0\n",
    "        avreward = 0.0\n",
    "\n",
    "        # print(\"Variant: \" + str(i) + \". Progress: \" + str(current / total))\n",
    "        for j in range(ATTEMPTS):\n",
    "            state = template.create_world(variant = float(i / VARIANTS))\n",
    "            for k in range(0, ITERS):\n",
    "                # take action and simulate:\n",
    "                state.apply_action(agent.take_action(state))\n",
    "                # get reward:\n",
    "                reward = rewardfn.compute(state)\n",
    "                avreward += reward             \n",
    "                stepsTaken += 1        \n",
    "                if (reward < -50) or (reward > 50):\n",
    "                    break\n",
    "\n",
    "        avreward /= stepsTaken\n",
    "        avrewards.append(avreward)\n",
    "\n",
    "    return avrewards\n"
   ]
  },
  {
   "cell_type": "code",
   "execution_count": 3,
   "metadata": {},
   "outputs": [],
   "source": [
    "def getTemplateRewardDict(  agent: Agent,\n",
    "                            rewardfn: RewardFunction, VARIANTS: int = 40, \n",
    "                            ATTEMPTS: int = 3, ITERS: int = 800) -> dict[str, list[float]]:\n",
    "    \n",
    "    templateRewards: dict[str, list[float]] = {}\n",
    "\n",
    "    for templateName in tempReg:\n",
    "        print(\"Template: \" + templateName)\n",
    "        template = tempReg[templateName]\n",
    "        avrewards = computeAverageRewards(  agent, template, \n",
    "                                            rewardfn, VARIANTS=VARIANTS, \n",
    "                                            ATTEMPTS=ATTEMPTS, ITERS=ITERS  )\n",
    "        templateRewards[templateName] = avrewards       \n",
    "        \n",
    "    return templateRewards"
   ]
  },
  {
   "cell_type": "code",
   "execution_count": 4,
   "metadata": {},
   "outputs": [
    {
     "name": "stdout",
     "output_type": "stream",
     "text": [
      "Template: heavyobstacle\n",
      "Template: pinball\n",
      "Template: heavyobstacle\n",
      "Template: pinball\n",
      "Template: heavyobstacle\n",
      "Template: pinball\n"
     ]
    }
   ],
   "source": [
    "distAgent1 = DistributionAgent([0.3, 0.4, 0.3, 0.1, 0, 0.1, 0, 0, 0])\n",
    "distAgent2 = DistributionAgent([0.4, 0.1, 0.1, 0.2, 0, 0.0, 0, 0, 0])\n",
    "distAgent3 = DistributionAgent([0.1, 0.1, 0.4, 0.0, 0, 0.2, 0, 0, 0])\n",
    "\n",
    "\n",
    "VARIANTS = 40 # How many different variants to try\n",
    "ATTEMPTS = 3   # How many attempts to allow per variant\n",
    "ITERS = 1000   # Maximum iterations to allowed per attempt\n",
    "\n",
    "rewardfn = NewHeightReward()\n",
    "\n",
    "tempReg = {n: tempReg[n] for n in ('heavyobstacle', 'pinball')}\n",
    "\n",
    "agent1Eval = getTemplateRewardDict( distAgent1, rewardfn=rewardfn, \n",
    "                                    VARIANTS=VARIANTS, ATTEMPTS=ATTEMPTS,\n",
    "                                    ITERS=ITERS )\n",
    "agent2Eval = getTemplateRewardDict( distAgent2, rewardfn=rewardfn, \n",
    "                                    VARIANTS=VARIANTS, ATTEMPTS=ATTEMPTS,\n",
    "                                    ITERS=ITERS )\n",
    "agent3Eval = getTemplateRewardDict( distAgent3, rewardfn=rewardfn, \n",
    "                                    VARIANTS=VARIANTS, ATTEMPTS=ATTEMPTS,\n",
    "                                    ITERS=ITERS )"
   ]
  },
  {
   "cell_type": "code",
   "execution_count": 5,
   "metadata": {},
   "outputs": [
    {
     "name": "stdout",
     "output_type": "stream",
     "text": [
      "Template: heavyobstacle\n",
      "Template: pinball\n",
      "Template: heavyobstacle\n",
      "Template: pinball\n"
     ]
    }
   ],
   "source": [
    "ATTEMPTS = 1\n",
    "\n",
    "avoidAgent = HeuristicAvoidAgent()\n",
    "avoidAgentEval = getTemplateRewardDict( avoidAgent, rewardfn=rewardfn, \n",
    "                                        VARIANTS=VARIANTS, ATTEMPTS=ATTEMPTS,\n",
    "                                        ITERS=ITERS )\n",
    "\n",
    "pushAgent = HeuristicPushAgent()\n",
    "pushAgentEval = getTemplateRewardDict(  pushAgent, rewardfn=rewardfn,\n",
    "                                        VARIANTS=VARIANTS, ATTEMPTS=ATTEMPTS,\n",
    "                                        ITERS=ITERS )"
   ]
  },
  {
   "cell_type": "code",
   "execution_count": 6,
   "metadata": {},
   "outputs": [
    {
     "name": "stdout",
     "output_type": "stream",
     "text": [
      "dict_keys(['heavyobstacle', 'pinball'])\n"
     ]
    }
   ],
   "source": [
    "print(tempReg.keys())"
   ]
  },
  {
   "cell_type": "code",
   "execution_count": 10,
   "metadata": {},
   "outputs": [
    {
     "data": {
      "image/png": "[encoded data removed]",
      "text/plain": [
       "<Figure size 432x288 with 1 Axes>"
      ]
     },
     "metadata": {
      "needs_background": "light"
     },
     "output_type": "display_data"
    }
   ],
   "source": [
    "# Plot:\n",
    "templateName = 'heavyobstacle'\n",
    "\n",
    "plt.figure(figsize=(6, 4))\n",
    "\n",
    "X = [float(x / VARIANTS) for x in range(0, VARIANTS)]\n",
    "\n",
    "markerSize=25\n",
    "\n",
    "plt.scatter(x=X, y=agent1Eval[templateName], c='black', alpha=0.5, s=markerSize, marker='o')\n",
    "plt.scatter(x=X, y=agent2Eval[templateName], c='g', alpha=0.5, s=markerSize, marker='o')\n",
    "plt.scatter(x=X, y=agent3Eval[templateName], c='r', alpha=0.5, s=markerSize, marker='o')\n",
    "plt.scatter(x=X, y=avoidAgentEval[templateName], c='b', alpha=0.5, s=markerSize, marker='s')\n",
    "plt.scatter(x=X, y=pushAgentEval[templateName], c='orange', alpha=0.5, s=markerSize, marker='s')\n",
    "\n",
    "av1 = np.average(agent1Eval[templateName])\n",
    "av2 = np.average(agent2Eval[templateName])\n",
    "av3 = np.average(agent3Eval[templateName])\n",
    "avAvoid = np.average(avoidAgentEval[templateName])\n",
    "avPush = np.average(pushAgentEval[templateName])\n",
    "\n",
    "plt.plot([0, 1], [av1, av1], c='black', alpha=0.3, linestyle='--')\n",
    "plt.plot([0, 1], [av2, av2], c='g', alpha=0.3, linestyle='--')\n",
    "plt.plot([0, 1], [av3, av3], c='r', alpha=0.3, linestyle='--')\n",
    "plt.plot([0, 1], [avAvoid, avAvoid], c='b', alpha=0.3, linestyle='--')\n",
    "plt.plot([0, 1], [avPush, avPush], c='orange', alpha=0.3, linestyle='--')\n",
    "\n",
    "\n",
    "\"\"\"\n",
    "err1 = np.std(agent1Eval[templateName])\n",
    "err2 = np.std(agent2Eval[templateName])\n",
    "err3 = np.std(agent3Eval[templateName])\n",
    "err4 = np.std(avoidAgentEval[templateName])\n",
    "\n",
    "plt.errorbar(X, agent1Eval[templateName], yerr=err1, c='black', marker='o', linestyle='')\n",
    "plt.errorbar(X, agent2Eval[templateName], yerr=err2, c='g', marker='o', linestyle='')\n",
    "plt.errorbar(X, agent3Eval[templateName], yerr=err3, c='r', marker='o', linestyle='')\n",
    "plt.errorbar(X, avoidAgentEval[templateName], yerr=err4, c='b', marker='o', linestyle='')\n",
    "\"\"\"\n",
    "\n",
    "# plt.plot([0.0, 1.0], [0.0, 0.0], c='black', linestyle=':')\n",
    "# a1poly = np.poly1d(np.polyfit(x=X, y=agent1Eval[templateName], deg=5))\n",
    "# a2poly = np.poly1d(np.polyfit(x=X, y=agent2Eval[templateName], deg=5))\n",
    "# a3poly = np.poly1d(np.polyfit(x=X, y=agent3Eval[templateName], deg=5))\n",
    "# a4poly = np.poly1d(np.polyfit(x=X, y=avoidAgentEval[templateName], deg=5))\n",
    "\n",
    "\"\"\"\n",
    "plt.plot(X, a1poly(X), c='black')\n",
    "plt.plot(X, a2poly(X), c='g')\n",
    "plt.plot(X, a3poly(X), c='r')\n",
    "# plt.plot(X, a4poly(X), c='b')\n",
    "\"\"\"\n",
    "\n",
    "plt.title('Hard Coded Agent Performance on ' + templateName)\n",
    "plt.xlabel('Variant')\n",
    "plt.ylabel('Average Reward Per Step')\n",
    "plt.xlim((0, 1))\n",
    "plt.grid(axis='x')\n",
    "plt.legend(['upward', 'leftward', 'rightward', 'avoid', 'push'], bbox_to_anchor=(1.0, 0.6))\n",
    "\n",
    "\n",
    "plt.show()"
   ]
  },
  {
   "cell_type": "code",
   "execution_count": 9,
   "metadata": {},
   "outputs": [],
   "source": [
    "import pandas as pd\n",
    "\n",
    "df = pd.DataFrame(columns=['upward', 'leftward', 'rightward', 'avoid', 'push'])\n",
    "df['upward'] = agent1Eval[templateName]\n",
    "df['leftward'] = agent1Eval[templateName]\n",
    "df['rightward'] = agent1Eval[templateName]\n",
    "df['avoid'] = agent1Eval[templateName]\n",
    "df['push'] = agent1Eval[templateName]\n",
    "\n",
    "df.to_csv('../experiment_data/' + templateName + '.csv', sep=',')"
   ]
  }
 ],
 "metadata": {
  "interpreter": {
   "hash": "aee8b7b246df8f9039afb4144a1f6fd8d2ca17a180786b69acc140d282b71a49"
  },
  "kernelspec": {
   "display_name": "Python 3 (ipykernel)",
   "language": "python",
   "name": "python3"
  },
  "language_info": {
   "codemirror_mode": {
    "name": "ipython",
    "version": 3
   },
   "file_extension": ".py",
   "mimetype": "text/x-python",
   "name": "python",
   "nbconvert_exporter": "python",
   "pygments_lexer": "ipython3",
   "version": "3.10.4"
  }
 },
 "nbformat": 4,
 "nbformat_minor": 2
}